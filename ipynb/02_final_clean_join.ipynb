{
 "cells": [
  {
   "cell_type": "code",
   "execution_count": 1,
   "metadata": {},
   "outputs": [
    {
     "name": "stdout",
     "output_type": "stream",
     "text": [
      "Requirement already satisfied: boto3 in c:\\users\\admin\\anaconda3\\lib\\site-packages (1.24.28)\n",
      "Requirement already satisfied: botocore<1.28.0,>=1.27.28 in c:\\users\\admin\\anaconda3\\lib\\site-packages (from boto3) (1.27.28)\n",
      "Requirement already satisfied: jmespath<2.0.0,>=0.7.1 in c:\\users\\admin\\anaconda3\\lib\\site-packages (from boto3) (0.10.0)\n",
      "Requirement already satisfied: s3transfer<0.7.0,>=0.6.0 in c:\\users\\admin\\anaconda3\\lib\\site-packages (from boto3) (0.6.0)\n",
      "Requirement already satisfied: urllib3<1.27,>=1.25.4 in c:\\users\\admin\\appdata\\roaming\\python\\python39\\site-packages (from botocore<1.28.0,>=1.27.28->boto3) (1.26.12)\n",
      "Requirement already satisfied: python-dateutil<3.0.0,>=2.1 in c:\\users\\admin\\appdata\\roaming\\python\\python39\\site-packages (from botocore<1.28.0,>=1.27.28->boto3) (2.8.2)\n",
      "Requirement already satisfied: six>=1.5 in c:\\users\\admin\\appdata\\roaming\\python\\python39\\site-packages (from python-dateutil<3.0.0,>=2.1->botocore<1.28.0,>=1.27.28->boto3) (1.16.0)\n",
      "Requirement already satisfied: censusdata in c:\\users\\admin\\anaconda3\\lib\\site-packages (1.15.post1)\n",
      "Requirement already satisfied: requests in c:\\users\\admin\\appdata\\roaming\\python\\python39\\site-packages (from censusdata) (2.28.1)\n",
      "Requirement already satisfied: pandas in c:\\users\\admin\\appdata\\roaming\\python\\python39\\site-packages (from censusdata) (1.5.0)\n",
      "Requirement already satisfied: python-dateutil>=2.8.1 in c:\\users\\admin\\appdata\\roaming\\python\\python39\\site-packages (from pandas->censusdata) (2.8.2)\n",
      "Requirement already satisfied: numpy>=1.20.3 in c:\\users\\admin\\anaconda3\\lib\\site-packages (from pandas->censusdata) (1.21.4)\n",
      "Requirement already satisfied: pytz>=2020.1 in c:\\users\\admin\\appdata\\roaming\\python\\python39\\site-packages (from pandas->censusdata) (2022.2.1)\n",
      "Requirement already satisfied: charset-normalizer<3,>=2 in c:\\users\\admin\\appdata\\roaming\\python\\python39\\site-packages (from requests->censusdata) (2.1.1)\n",
      "Requirement already satisfied: certifi>=2017.4.17 in c:\\users\\admin\\appdata\\roaming\\python\\python39\\site-packages (from requests->censusdata) (2022.9.24)\n",
      "Requirement already satisfied: idna<4,>=2.5 in c:\\users\\admin\\anaconda3\\lib\\site-packages (from requests->censusdata) (3.3)\n",
      "Requirement already satisfied: urllib3<1.27,>=1.21.1 in c:\\users\\admin\\appdata\\roaming\\python\\python39\\site-packages (from requests->censusdata) (1.26.12)\n",
      "Requirement already satisfied: six>=1.5 in c:\\users\\admin\\appdata\\roaming\\python\\python39\\site-packages (from python-dateutil>=2.8.1->pandas->censusdata) (1.16.0)\n",
      "Requirement already satisfied: tabulate in c:\\users\\admin\\anaconda3\\lib\\site-packages (0.8.10)\n",
      "Requirement already satisfied: geopandas in c:\\users\\admin\\anaconda3\\lib\\site-packages (0.12.2)\n",
      "Requirement already satisfied: fiona>=1.8 in c:\\users\\admin\\anaconda3\\lib\\site-packages (from geopandas) (1.9.2)\n",
      "Requirement already satisfied: pyproj>=2.6.1.post1 in c:\\users\\admin\\anaconda3\\lib\\site-packages (from geopandas) (3.5.0)\n",
      "Requirement already satisfied: packaging in c:\\users\\admin\\appdata\\roaming\\python\\python39\\site-packages (from geopandas) (21.3)\n",
      "Requirement already satisfied: pandas>=1.0.0 in c:\\users\\admin\\appdata\\roaming\\python\\python39\\site-packages (from geopandas) (1.5.0)\n",
      "Requirement already satisfied: shapely>=1.7 in c:\\users\\admin\\anaconda3\\lib\\site-packages (from geopandas) (2.0.1)\n",
      "Requirement already satisfied: cligj>=0.5 in c:\\users\\admin\\anaconda3\\lib\\site-packages (from fiona>=1.8->geopandas) (0.7.2)\n",
      "Requirement already satisfied: certifi in c:\\users\\admin\\appdata\\roaming\\python\\python39\\site-packages (from fiona>=1.8->geopandas) (2022.9.24)\n",
      "Requirement already satisfied: attrs>=19.2.0 in c:\\users\\admin\\anaconda3\\lib\\site-packages (from fiona>=1.8->geopandas) (21.4.0)\n",
      "Requirement already satisfied: importlib-metadata in c:\\users\\admin\\appdata\\roaming\\python\\python39\\site-packages (from fiona>=1.8->geopandas) (4.12.0)\n",
      "Requirement already satisfied: munch>=2.3.2 in c:\\users\\admin\\anaconda3\\lib\\site-packages (from fiona>=1.8->geopandas) (2.5.0)\n",
      "Requirement already satisfied: click-plugins>=1.0 in c:\\users\\admin\\anaconda3\\lib\\site-packages (from fiona>=1.8->geopandas) (1.1.1)\n",
      "Requirement already satisfied: click~=8.0 in c:\\users\\admin\\anaconda3\\lib\\site-packages (from fiona>=1.8->geopandas) (8.0.4)\n",
      "Requirement already satisfied: python-dateutil>=2.8.1 in c:\\users\\admin\\appdata\\roaming\\python\\python39\\site-packages (from pandas>=1.0.0->geopandas) (2.8.2)\n",
      "Requirement already satisfied: numpy>=1.20.3 in c:\\users\\admin\\anaconda3\\lib\\site-packages (from pandas>=1.0.0->geopandas) (1.21.4)\n",
      "Requirement already satisfied: pytz>=2020.1 in c:\\users\\admin\\appdata\\roaming\\python\\python39\\site-packages (from pandas>=1.0.0->geopandas) (2022.2.1)\n",
      "Requirement already satisfied: pyparsing!=3.0.5,>=2.0.2 in c:\\users\\admin\\appdata\\roaming\\python\\python39\\site-packages (from packaging->geopandas) (3.0.9)\n",
      "Requirement already satisfied: colorama in c:\\users\\admin\\anaconda3\\lib\\site-packages (from click~=8.0->fiona>=1.8->geopandas) (0.4.5)\n",
      "Requirement already satisfied: six in c:\\users\\admin\\appdata\\roaming\\python\\python39\\site-packages (from munch>=2.3.2->fiona>=1.8->geopandas) (1.16.0)\n",
      "Requirement already satisfied: zipp>=0.5 in c:\\users\\admin\\appdata\\roaming\\python\\python39\\site-packages (from importlib-metadata->fiona>=1.8->geopandas) (3.8.1)\n",
      "Requirement already satisfied: plotly in c:\\users\\admin\\anaconda3\\lib\\site-packages (5.9.0)\n",
      "Requirement already satisfied: tenacity>=6.2.0 in c:\\users\\admin\\anaconda3\\lib\\site-packages (from plotly) (8.0.1)\n",
      "C:\\Java\\jdk-1.8\n",
      "C:\\Users\\Admin\\Spark\n"
     ]
    }
   ],
   "source": [
    "# All required Imports\n",
    "!pip install boto3\n",
    "!pip install censusdata\n",
    "!pip install tabulate\n",
    "!pip install geopandas\n",
    "!pip install plotly\n",
    "\n",
    "import geopandas as gpd\n",
    "import plotly.express as px\n",
    "import boto3\n",
    "import os\n",
    "print(os.environ[\"JAVA_HOME\"])\n",
    "print(os.environ[\"SPARK_HOME\"])\n",
    "import findspark\n",
    "findspark.init()\n",
    "import pandas as pd\n",
    "\n",
    "from geopandas import GeoDataFrame\n",
    "from shapely.geometry import Point\n",
    "\n",
    "from pyspark.sql import SparkSession"
   ]
  },
  {
   "cell_type": "code",
   "execution_count": 2,
   "metadata": {},
   "outputs": [],
   "source": [
    "# Defining the Spark interface\n",
    "spark = SparkSession.builder.config('spark.executor.cores', '8').config('spark.executor.memory', '6g')\\\n",
    "        .config(\"spark.sql.session.timeZone\", \"UTC\").config('spark.driver.memory', '6g').master(\"local[26]\")\\\n",
    "        .appName(\"final-project-app\").config('spark.driver.extraJavaOptions', '-Duser.timezone=UTC').config('spark.executor.extraJavaOptions', '-Duser.timezone=UTC')\\\n",
    "        .config(\"spark.sql.datetime.java8API.enabled\", \"true\").config(\"spark.sql.execution.arrow.pyspark.enabled\", \"true\")\\\n",
    "        .config(\"spark.sql.autoBroadcastJoinThreshold\", -1)\\\n",
    "        .config(\"spark.driver.maxResultSize\", 0)\\\n",
    "        .config(\"spark.shuffle.spill\", \"true\")\\\n",
    "        .getOrCreate()"
   ]
  },
  {
   "cell_type": "code",
   "execution_count": 3,
   "metadata": {},
   "outputs": [],
   "source": [
    "# Paths to the data\n",
    "trips_data = '../data/mds-trips-bird.parquet'\n",
    "socio_economic_fp = '../data/socio_economic/2021_census_tract_davidson.geojson'"
   ]
  },
  {
   "attachments": {},
   "cell_type": "markdown",
   "metadata": {},
   "source": [
    "Removing all extra information from trips data"
   ]
  },
  {
   "cell_type": "code",
   "execution_count": 4,
   "metadata": {},
   "outputs": [],
   "source": [
    "# Reading the data into a pandas dataframe\n",
    "trips_df = pd.read_parquet(trips_data)"
   ]
  },
  {
   "cell_type": "code",
   "execution_count": 5,
   "metadata": {},
   "outputs": [],
   "source": [
    "#Required columns: \n",
    "# start_time, end_time, geometry, actual_cost, trip_distance, trip_id, vehicle_id, start_location(Only the starting location)"
   ]
  },
  {
   "cell_type": "code",
   "execution_count": 6,
   "metadata": {},
   "outputs": [],
   "source": [
    "# Getting only the required columns\n",
    "trips_df = trips_df[['start_time', 'end_time', 'geometry', 'actual_cost', 'trip_distance', 'trip_id', 'vehicle_id']]"
   ]
  },
  {
   "cell_type": "code",
   "execution_count": 7,
   "metadata": {},
   "outputs": [],
   "source": [
    "# Getting all the starting locations for all the trips as the first poistion in the linestring\n",
    "trips_df['start_location'] = trips_df.geometry.apply(lambda x: x['coordinates'][0])"
   ]
  },
  {
   "cell_type": "code",
   "execution_count": 8,
   "metadata": {},
   "outputs": [],
   "source": [
    "# Renaming the columns and dropping additional columns\n",
    "trips_df['route_coordinates'] = trips_df['geometry']\n",
    "trips_df['geometry'] = trips_df['start_location']\n",
    "trips_df = trips_df.drop('start_location',axis=1)\n",
    "# Getting the latitude and longitude data from the starting location (renamed to geometry) \n",
    "trips_df['start_longitude'] = trips_df.geometry.apply(lambda x: x[0])\n",
    "trips_df['start_latitude'] = trips_df.geometry.apply(lambda x: x[1])"
   ]
  },
  {
   "cell_type": "code",
   "execution_count": 9,
   "metadata": {},
   "outputs": [],
   "source": [
    "# Creating the shapely point to create a geopandas dataframe\n",
    "geometry = [Point(xy) for xy in zip(trips_df.start_longitude, trips_df.start_latitude)]\n",
    "# Dropping the columns that are not required\n",
    "trips_df = trips_df.drop(['start_longitude', 'start_latitude'], axis=1)\n",
    "# Converting the pandas dataframe into a geopandas dataframe \n",
    "trips_gdf = GeoDataFrame(trips_df, crs=\"EPSG:4326\", geometry=geometry)"
   ]
  },
  {
   "attachments": {},
   "cell_type": "markdown",
   "metadata": {},
   "source": [
    "Removing all extra information from socio economic data"
   ]
  },
  {
   "cell_type": "code",
   "execution_count": 10,
   "metadata": {},
   "outputs": [],
   "source": [
    "# Reading the data into a geopandas dataframe\n",
    "socio_economic_df = gpd.read_file(socio_economic_fp)"
   ]
  },
  {
   "cell_type": "code",
   "execution_count": 11,
   "metadata": {},
   "outputs": [],
   "source": [
    "# Getting the county names \n",
    "new_indices = []\n",
    "county_names = []\n",
    "for index in socio_economic_df.NAME.tolist():\n",
    "        county_name = index.split(',')[1].strip().split(' ')[0].strip()\n",
    "        county_names.append(county_name)\n",
    "socio_economic_df['county_name'] = county_name"
   ]
  },
  {
   "cell_type": "code",
   "execution_count": 12,
   "metadata": {},
   "outputs": [],
   "source": [
    "# Redefining the index as GEOID\n",
    "socio_economic_df.index = socio_economic_df.GEOID\n",
    "# List of columns required\n",
    "socio_economic_cols = ['median_income_last12months','geometry','county_name']\n",
    "# Getting only the required columns\n",
    "socio_economic_df = socio_economic_df.drop(columns = [c for c in socio_economic_df.columns if c not in socio_economic_cols])"
   ]
  },
  {
   "cell_type": "code",
   "execution_count": 13,
   "metadata": {},
   "outputs": [],
   "source": [
    "# Writing the final socio economic dataframe to the required location\n",
    "socio_economic_df.to_parquet('../data/final_socio_economic_data.parquet')"
   ]
  },
  {
   "cell_type": "code",
   "execution_count": 14,
   "metadata": {},
   "outputs": [],
   "source": [
    "# Reseting the index to create a join\n",
    "socio_economic_df = socio_economic_df.reset_index()"
   ]
  },
  {
   "attachments": {},
   "cell_type": "markdown",
   "metadata": {},
   "source": [
    "### Now creating the spatial join"
   ]
  },
  {
   "cell_type": "code",
   "execution_count": 15,
   "metadata": {},
   "outputs": [],
   "source": [
    "# Checking if the coordinate reference system is consistent before joining the data \n",
    "trips_gdf = trips_gdf.to_crs(socio_economic_df.crs)"
   ]
  },
  {
   "cell_type": "code",
   "execution_count": 16,
   "metadata": {},
   "outputs": [
    {
     "name": "stderr",
     "output_type": "stream",
     "text": [
      "c:\\Users\\Admin\\anaconda3\\lib\\site-packages\\IPython\\core\\interactiveshell.py:3377: FutureWarning: The `op` parameter is deprecated and will be removed in a future release. Please use the `predicate` parameter instead.\n",
      "  if (await self.run_code(code, result,  async_=asy)):\n"
     ]
    }
   ],
   "source": [
    "# Creating the spatial join between trip starting position and socio economic data to get the area names \n",
    "joined_df = gpd.sjoin(trips_gdf, socio_economic_df, op='within')"
   ]
  },
  {
   "cell_type": "code",
   "execution_count": 17,
   "metadata": {},
   "outputs": [
    {
     "data": {
      "text/html": [
       "<div>\n",
       "<style scoped>\n",
       "    .dataframe tbody tr th:only-of-type {\n",
       "        vertical-align: middle;\n",
       "    }\n",
       "\n",
       "    .dataframe tbody tr th {\n",
       "        vertical-align: top;\n",
       "    }\n",
       "\n",
       "    .dataframe thead th {\n",
       "        text-align: right;\n",
       "    }\n",
       "</style>\n",
       "<table border=\"1\" class=\"dataframe\">\n",
       "  <thead>\n",
       "    <tr style=\"text-align: right;\">\n",
       "      <th></th>\n",
       "      <th>start_time</th>\n",
       "      <th>end_time</th>\n",
       "      <th>geometry</th>\n",
       "      <th>actual_cost</th>\n",
       "      <th>trip_distance</th>\n",
       "      <th>trip_id</th>\n",
       "      <th>vehicle_id</th>\n",
       "      <th>route_coordinates</th>\n",
       "      <th>index_right</th>\n",
       "      <th>GEOID</th>\n",
       "      <th>median_income_last12months</th>\n",
       "      <th>county_name</th>\n",
       "    </tr>\n",
       "  </thead>\n",
       "  <tbody>\n",
       "    <tr>\n",
       "      <th>0</th>\n",
       "      <td>1566471760475</td>\n",
       "      <td>1566471905287</td>\n",
       "      <td>POINT (-86.79949 36.14624)</td>\n",
       "      <td>187.0</td>\n",
       "      <td>16</td>\n",
       "      <td>7ed9d904-594b-43af-ae64-7b58b54f1912</td>\n",
       "      <td>21BWU</td>\n",
       "      <td>{'coordinates': [[-86.7994921, 36.1462415], [-...</td>\n",
       "      <td>99</td>\n",
       "      <td>47037016400</td>\n",
       "      <td>50855.0</td>\n",
       "      <td>Davidson</td>\n",
       "    </tr>\n",
       "    <tr>\n",
       "      <th>9</th>\n",
       "      <td>1566473212444</td>\n",
       "      <td>1566473686684</td>\n",
       "      <td>POINT (-86.79653 36.13306)</td>\n",
       "      <td>332.0</td>\n",
       "      <td>2063</td>\n",
       "      <td>3322a6e3-36a7-405f-800e-ee5289e02857</td>\n",
       "      <td>Y7HMS</td>\n",
       "      <td>{'coordinates': [[-86.79653275299017, 36.13305...</td>\n",
       "      <td>99</td>\n",
       "      <td>47037016400</td>\n",
       "      <td>50855.0</td>\n",
       "      <td>Davidson</td>\n",
       "    </tr>\n",
       "    <tr>\n",
       "      <th>13</th>\n",
       "      <td>1566473705562</td>\n",
       "      <td>1566473994897</td>\n",
       "      <td>POINT (-86.79699 36.14114)</td>\n",
       "      <td>245.0</td>\n",
       "      <td>38</td>\n",
       "      <td>ad7d0cdd-fe9a-4dbd-ab57-f6c53928c931</td>\n",
       "      <td>WRZPW</td>\n",
       "      <td>{'coordinates': [[-86.79699490432981, 36.14114...</td>\n",
       "      <td>99</td>\n",
       "      <td>47037016400</td>\n",
       "      <td>50855.0</td>\n",
       "      <td>Davidson</td>\n",
       "    </tr>\n",
       "    <tr>\n",
       "      <th>16</th>\n",
       "      <td>1566474469566</td>\n",
       "      <td>1566474587343</td>\n",
       "      <td>POINT (-86.79928 36.14049)</td>\n",
       "      <td>187.0</td>\n",
       "      <td>947</td>\n",
       "      <td>098c2c24-e67c-42b2-b7d7-46b70eb1073d</td>\n",
       "      <td>UT5SM</td>\n",
       "      <td>{'coordinates': [[-86.79928335369266, 36.14049...</td>\n",
       "      <td>99</td>\n",
       "      <td>47037016400</td>\n",
       "      <td>50855.0</td>\n",
       "      <td>Davidson</td>\n",
       "    </tr>\n",
       "    <tr>\n",
       "      <th>19</th>\n",
       "      <td>1566474403946</td>\n",
       "      <td>1566474787458</td>\n",
       "      <td>POINT (-86.80004 36.14117)</td>\n",
       "      <td>303.0</td>\n",
       "      <td>1481</td>\n",
       "      <td>0fb35241-2d4e-4a79-975a-e4004302d0a6</td>\n",
       "      <td>DX55L</td>\n",
       "      <td>{'coordinates': [[-86.80004419226664, 36.14117...</td>\n",
       "      <td>99</td>\n",
       "      <td>47037016400</td>\n",
       "      <td>50855.0</td>\n",
       "      <td>Davidson</td>\n",
       "    </tr>\n",
       "    <tr>\n",
       "      <th>...</th>\n",
       "      <td>...</td>\n",
       "      <td>...</td>\n",
       "      <td>...</td>\n",
       "      <td>...</td>\n",
       "      <td>...</td>\n",
       "      <td>...</td>\n",
       "      <td>...</td>\n",
       "      <td>...</td>\n",
       "      <td>...</td>\n",
       "      <td>...</td>\n",
       "      <td>...</td>\n",
       "      <td>...</td>\n",
       "    </tr>\n",
       "    <tr>\n",
       "      <th>90654</th>\n",
       "      <td>1595187076766</td>\n",
       "      <td>1595187210476</td>\n",
       "      <td>POINT (-86.60319 36.07186)</td>\n",
       "      <td>300.0</td>\n",
       "      <td>21</td>\n",
       "      <td>dfbb202d-ba0c-4149-bbf4-e71611a473f7</td>\n",
       "      <td>I4464</td>\n",
       "      <td>{'coordinates': [[-86.60319013354608, 36.07186...</td>\n",
       "      <td>168</td>\n",
       "      <td>47037015620</td>\n",
       "      <td>54391.0</td>\n",
       "      <td>Davidson</td>\n",
       "    </tr>\n",
       "    <tr>\n",
       "      <th>91929</th>\n",
       "      <td>1595680836415</td>\n",
       "      <td>1595681479000</td>\n",
       "      <td>POINT (-86.78141 36.19726)</td>\n",
       "      <td>685.0</td>\n",
       "      <td>16218</td>\n",
       "      <td>9ade1d5f-d1c9-4643-af2f-7a71f88c0697</td>\n",
       "      <td>L4VHE</td>\n",
       "      <td>{'coordinates': [[-86.78140778016248, 36.19725...</td>\n",
       "      <td>118</td>\n",
       "      <td>47037012702</td>\n",
       "      <td>60432.0</td>\n",
       "      <td>Davidson</td>\n",
       "    </tr>\n",
       "    <tr>\n",
       "      <th>91938</th>\n",
       "      <td>1595681843471</td>\n",
       "      <td>1595683666000</td>\n",
       "      <td>POINT (-86.78098 36.19704)</td>\n",
       "      <td>1504.0</td>\n",
       "      <td>12944</td>\n",
       "      <td>587a6bc6-d64f-4fa4-9416-ceb719b5e35c</td>\n",
       "      <td>R7KNI</td>\n",
       "      <td>{'coordinates': [[-86.78097753753937, 36.19703...</td>\n",
       "      <td>118</td>\n",
       "      <td>47037012702</td>\n",
       "      <td>60432.0</td>\n",
       "      <td>Davidson</td>\n",
       "    </tr>\n",
       "    <tr>\n",
       "      <th>92671</th>\n",
       "      <td>1595852310000</td>\n",
       "      <td>1595853407000</td>\n",
       "      <td>POINT (-86.72293 36.06338)</td>\n",
       "      <td>880.0</td>\n",
       "      <td>24322</td>\n",
       "      <td>7af86728-88ad-4811-b493-e4efd671339e</td>\n",
       "      <td>MR1WY</td>\n",
       "      <td>{'coordinates': [[-86.722925, 36.063384], [-86...</td>\n",
       "      <td>142</td>\n",
       "      <td>47037018904</td>\n",
       "      <td>65023.0</td>\n",
       "      <td>Davidson</td>\n",
       "    </tr>\n",
       "    <tr>\n",
       "      <th>92986</th>\n",
       "      <td>1595968618000</td>\n",
       "      <td>1595969126000</td>\n",
       "      <td>POINT (-86.72275 36.06330)</td>\n",
       "      <td>300.0</td>\n",
       "      <td>56</td>\n",
       "      <td>87807733-91e8-45a3-9950-44cf3718a966</td>\n",
       "      <td>LB8LH</td>\n",
       "      <td>{'coordinates': [[-86.722751, 36.063305], [-86...</td>\n",
       "      <td>142</td>\n",
       "      <td>47037018904</td>\n",
       "      <td>65023.0</td>\n",
       "      <td>Davidson</td>\n",
       "    </tr>\n",
       "  </tbody>\n",
       "</table>\n",
       "<p>97915 rows × 12 columns</p>\n",
       "</div>"
      ],
      "text/plain": [
       "          start_time       end_time                    geometry  actual_cost  \\\n",
       "0      1566471760475  1566471905287  POINT (-86.79949 36.14624)        187.0   \n",
       "9      1566473212444  1566473686684  POINT (-86.79653 36.13306)        332.0   \n",
       "13     1566473705562  1566473994897  POINT (-86.79699 36.14114)        245.0   \n",
       "16     1566474469566  1566474587343  POINT (-86.79928 36.14049)        187.0   \n",
       "19     1566474403946  1566474787458  POINT (-86.80004 36.14117)        303.0   \n",
       "...              ...            ...                         ...          ...   \n",
       "90654  1595187076766  1595187210476  POINT (-86.60319 36.07186)        300.0   \n",
       "91929  1595680836415  1595681479000  POINT (-86.78141 36.19726)        685.0   \n",
       "91938  1595681843471  1595683666000  POINT (-86.78098 36.19704)       1504.0   \n",
       "92671  1595852310000  1595853407000  POINT (-86.72293 36.06338)        880.0   \n",
       "92986  1595968618000  1595969126000  POINT (-86.72275 36.06330)        300.0   \n",
       "\n",
       "       trip_distance                               trip_id vehicle_id  \\\n",
       "0                 16  7ed9d904-594b-43af-ae64-7b58b54f1912      21BWU   \n",
       "9               2063  3322a6e3-36a7-405f-800e-ee5289e02857      Y7HMS   \n",
       "13                38  ad7d0cdd-fe9a-4dbd-ab57-f6c53928c931      WRZPW   \n",
       "16               947  098c2c24-e67c-42b2-b7d7-46b70eb1073d      UT5SM   \n",
       "19              1481  0fb35241-2d4e-4a79-975a-e4004302d0a6      DX55L   \n",
       "...              ...                                   ...        ...   \n",
       "90654             21  dfbb202d-ba0c-4149-bbf4-e71611a473f7      I4464   \n",
       "91929          16218  9ade1d5f-d1c9-4643-af2f-7a71f88c0697      L4VHE   \n",
       "91938          12944  587a6bc6-d64f-4fa4-9416-ceb719b5e35c      R7KNI   \n",
       "92671          24322  7af86728-88ad-4811-b493-e4efd671339e      MR1WY   \n",
       "92986             56  87807733-91e8-45a3-9950-44cf3718a966      LB8LH   \n",
       "\n",
       "                                       route_coordinates  index_right  \\\n",
       "0      {'coordinates': [[-86.7994921, 36.1462415], [-...           99   \n",
       "9      {'coordinates': [[-86.79653275299017, 36.13305...           99   \n",
       "13     {'coordinates': [[-86.79699490432981, 36.14114...           99   \n",
       "16     {'coordinates': [[-86.79928335369266, 36.14049...           99   \n",
       "19     {'coordinates': [[-86.80004419226664, 36.14117...           99   \n",
       "...                                                  ...          ...   \n",
       "90654  {'coordinates': [[-86.60319013354608, 36.07186...          168   \n",
       "91929  {'coordinates': [[-86.78140778016248, 36.19725...          118   \n",
       "91938  {'coordinates': [[-86.78097753753937, 36.19703...          118   \n",
       "92671  {'coordinates': [[-86.722925, 36.063384], [-86...          142   \n",
       "92986  {'coordinates': [[-86.722751, 36.063305], [-86...          142   \n",
       "\n",
       "             GEOID  median_income_last12months county_name  \n",
       "0      47037016400                     50855.0    Davidson  \n",
       "9      47037016400                     50855.0    Davidson  \n",
       "13     47037016400                     50855.0    Davidson  \n",
       "16     47037016400                     50855.0    Davidson  \n",
       "19     47037016400                     50855.0    Davidson  \n",
       "...            ...                         ...         ...  \n",
       "90654  47037015620                     54391.0    Davidson  \n",
       "91929  47037012702                     60432.0    Davidson  \n",
       "91938  47037012702                     60432.0    Davidson  \n",
       "92671  47037018904                     65023.0    Davidson  \n",
       "92986  47037018904                     65023.0    Davidson  \n",
       "\n",
       "[97915 rows x 12 columns]"
      ]
     },
     "execution_count": 17,
     "metadata": {},
     "output_type": "execute_result"
    }
   ],
   "source": [
    "# Analyzing the data to check if everything is correct\n",
    "joined_df"
   ]
  },
  {
   "cell_type": "code",
   "execution_count": 18,
   "metadata": {},
   "outputs": [],
   "source": [
    "# Dropping columns that are not required\n",
    "joined_df = joined_df.drop(['route_coordinates','index_right'],axis=1)\n",
    "# Removing duplicate rows\n",
    "joined_df.drop_duplicates(inplace=True)"
   ]
  },
  {
   "cell_type": "code",
   "execution_count": 19,
   "metadata": {},
   "outputs": [
    {
     "name": "stderr",
     "output_type": "stream",
     "text": [
      "c:\\Users\\Admin\\anaconda3\\lib\\site-packages\\geopandas\\geodataframe.py:1443: SettingWithCopyWarning: \n",
      "A value is trying to be set on a copy of a slice from a DataFrame.\n",
      "Try using .loc[row_indexer,col_indexer] = value instead\n",
      "\n",
      "See the caveats in the documentation: https://pandas.pydata.org/pandas-docs/stable/user_guide/indexing.html#returning-a-view-versus-a-copy\n",
      "  super().__setitem__(key, value)\n"
     ]
    }
   ],
   "source": [
    "# Creating a temporary data frame with only GEOID and geometry to create a join as geometry column was missing \n",
    "temp = socio_economic_df[['GEOID','geometry']]\n",
    "temp['geometry_polygon'] = temp['geometry']\n",
    "temp = temp[['GEOID','geometry_polygon']]"
   ]
  },
  {
   "cell_type": "code",
   "execution_count": 20,
   "metadata": {},
   "outputs": [],
   "source": [
    "# Joining on GEOID and getting the geometry column from socio economic data\n",
    "joined_df = joined_df.join(temp.set_index('GEOID'),on='GEOID',how='inner')"
   ]
  },
  {
   "cell_type": "code",
   "execution_count": 21,
   "metadata": {},
   "outputs": [],
   "source": [
    "# Storing the data as a parquet file to the required location\n",
    "joined_df.to_parquet('../data/final_joined_data.parquet')"
   ]
  }
 ],
 "metadata": {
  "kernelspec": {
   "display_name": "base",
   "language": "python",
   "name": "python3"
  },
  "language_info": {
   "codemirror_mode": {
    "name": "ipython",
    "version": 3
   },
   "file_extension": ".py",
   "mimetype": "text/x-python",
   "name": "python",
   "nbconvert_exporter": "python",
   "pygments_lexer": "ipython3",
   "version": "3.9.13"
  },
  "orig_nbformat": 4
 },
 "nbformat": 4,
 "nbformat_minor": 2
}
