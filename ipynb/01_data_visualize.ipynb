{
 "cells": [
  {
   "cell_type": "code",
   "execution_count": 1,
   "metadata": {},
   "outputs": [
    {
     "name": "stdout",
     "output_type": "stream",
     "text": [
      "Requirement already satisfied: boto3 in c:\\users\\admin\\anaconda3\\lib\\site-packages (1.24.28)\n",
      "Requirement already satisfied: jmespath<2.0.0,>=0.7.1 in c:\\users\\admin\\anaconda3\\lib\\site-packages (from boto3) (0.10.0)\n",
      "Requirement already satisfied: s3transfer<0.7.0,>=0.6.0 in c:\\users\\admin\\anaconda3\\lib\\site-packages (from boto3) (0.6.0)\n",
      "Requirement already satisfied: botocore<1.28.0,>=1.27.28 in c:\\users\\admin\\anaconda3\\lib\\site-packages (from boto3) (1.27.28)\n",
      "Requirement already satisfied: python-dateutil<3.0.0,>=2.1 in c:\\users\\admin\\appdata\\roaming\\python\\python39\\site-packages (from botocore<1.28.0,>=1.27.28->boto3) (2.8.2)\n",
      "Requirement already satisfied: urllib3<1.27,>=1.25.4 in c:\\users\\admin\\appdata\\roaming\\python\\python39\\site-packages (from botocore<1.28.0,>=1.27.28->boto3) (1.26.12)\n",
      "Requirement already satisfied: six>=1.5 in c:\\users\\admin\\appdata\\roaming\\python\\python39\\site-packages (from python-dateutil<3.0.0,>=2.1->botocore<1.28.0,>=1.27.28->boto3) (1.16.0)\n",
      "Requirement already satisfied: censusdata in c:\\users\\admin\\anaconda3\\lib\\site-packages (1.15.post1)\n",
      "Requirement already satisfied: requests in c:\\users\\admin\\appdata\\roaming\\python\\python39\\site-packages (from censusdata) (2.28.1)\n",
      "Requirement already satisfied: pandas in c:\\users\\admin\\appdata\\roaming\\python\\python39\\site-packages (from censusdata) (1.5.0)\n",
      "Requirement already satisfied: python-dateutil>=2.8.1 in c:\\users\\admin\\appdata\\roaming\\python\\python39\\site-packages (from pandas->censusdata) (2.8.2)\n",
      "Requirement already satisfied: pytz>=2020.1 in c:\\users\\admin\\appdata\\roaming\\python\\python39\\site-packages (from pandas->censusdata) (2022.2.1)\n",
      "Requirement already satisfied: numpy>=1.20.3 in c:\\users\\admin\\anaconda3\\lib\\site-packages (from pandas->censusdata) (1.21.4)\n",
      "Requirement already satisfied: certifi>=2017.4.17 in c:\\users\\admin\\appdata\\roaming\\python\\python39\\site-packages (from requests->censusdata) (2022.9.24)\n",
      "Requirement already satisfied: idna<4,>=2.5 in c:\\users\\admin\\anaconda3\\lib\\site-packages (from requests->censusdata) (3.3)\n",
      "Requirement already satisfied: charset-normalizer<3,>=2 in c:\\users\\admin\\appdata\\roaming\\python\\python39\\site-packages (from requests->censusdata) (2.1.1)\n",
      "Requirement already satisfied: urllib3<1.27,>=1.21.1 in c:\\users\\admin\\appdata\\roaming\\python\\python39\\site-packages (from requests->censusdata) (1.26.12)\n",
      "Requirement already satisfied: six>=1.5 in c:\\users\\admin\\appdata\\roaming\\python\\python39\\site-packages (from python-dateutil>=2.8.1->pandas->censusdata) (1.16.0)\n",
      "Requirement already satisfied: tabulate in c:\\users\\admin\\anaconda3\\lib\\site-packages (0.8.10)\n",
      "Requirement already satisfied: geopandas in c:\\users\\admin\\anaconda3\\lib\\site-packages (0.12.2)\n",
      "Requirement already satisfied: packaging in c:\\users\\admin\\appdata\\roaming\\python\\python39\\site-packages (from geopandas) (21.3)\n",
      "Requirement already satisfied: pandas>=1.0.0 in c:\\users\\admin\\appdata\\roaming\\python\\python39\\site-packages (from geopandas) (1.5.0)\n",
      "Requirement already satisfied: shapely>=1.7 in c:\\users\\admin\\anaconda3\\lib\\site-packages (from geopandas) (2.0.1)\n",
      "Requirement already satisfied: pyproj>=2.6.1.post1 in c:\\users\\admin\\anaconda3\\lib\\site-packages (from geopandas) (3.5.0)\n",
      "Requirement already satisfied: fiona>=1.8 in c:\\users\\admin\\anaconda3\\lib\\site-packages (from geopandas) (1.9.2)\n",
      "Requirement already satisfied: munch>=2.3.2 in c:\\users\\admin\\anaconda3\\lib\\site-packages (from fiona>=1.8->geopandas) (2.5.0)\n",
      "Requirement already satisfied: cligj>=0.5 in c:\\users\\admin\\anaconda3\\lib\\site-packages (from fiona>=1.8->geopandas) (0.7.2)\n",
      "Requirement already satisfied: certifi in c:\\users\\admin\\appdata\\roaming\\python\\python39\\site-packages (from fiona>=1.8->geopandas) (2022.9.24)\n",
      "Requirement already satisfied: attrs>=19.2.0 in c:\\users\\admin\\anaconda3\\lib\\site-packages (from fiona>=1.8->geopandas) (21.4.0)\n",
      "Requirement already satisfied: click-plugins>=1.0 in c:\\users\\admin\\anaconda3\\lib\\site-packages (from fiona>=1.8->geopandas) (1.1.1)\n",
      "Requirement already satisfied: click~=8.0 in c:\\users\\admin\\anaconda3\\lib\\site-packages (from fiona>=1.8->geopandas) (8.0.4)\n",
      "Requirement already satisfied: importlib-metadata in c:\\users\\admin\\appdata\\roaming\\python\\python39\\site-packages (from fiona>=1.8->geopandas) (4.12.0)\n",
      "Requirement already satisfied: python-dateutil>=2.8.1 in c:\\users\\admin\\appdata\\roaming\\python\\python39\\site-packages (from pandas>=1.0.0->geopandas) (2.8.2)\n",
      "Requirement already satisfied: pytz>=2020.1 in c:\\users\\admin\\appdata\\roaming\\python\\python39\\site-packages (from pandas>=1.0.0->geopandas) (2022.2.1)\n",
      "Requirement already satisfied: numpy>=1.20.3 in c:\\users\\admin\\anaconda3\\lib\\site-packages (from pandas>=1.0.0->geopandas) (1.21.4)\n",
      "Requirement already satisfied: pyparsing!=3.0.5,>=2.0.2 in c:\\users\\admin\\appdata\\roaming\\python\\python39\\site-packages (from packaging->geopandas) (3.0.9)\n",
      "Requirement already satisfied: colorama in c:\\users\\admin\\anaconda3\\lib\\site-packages (from click~=8.0->fiona>=1.8->geopandas) (0.4.5)\n",
      "Requirement already satisfied: six in c:\\users\\admin\\appdata\\roaming\\python\\python39\\site-packages (from munch>=2.3.2->fiona>=1.8->geopandas) (1.16.0)\n",
      "Requirement already satisfied: zipp>=0.5 in c:\\users\\admin\\appdata\\roaming\\python\\python39\\site-packages (from importlib-metadata->fiona>=1.8->geopandas) (3.8.1)\n",
      "Requirement already satisfied: plotly in c:\\users\\admin\\anaconda3\\lib\\site-packages (5.9.0)\n",
      "Requirement already satisfied: tenacity>=6.2.0 in c:\\users\\admin\\anaconda3\\lib\\site-packages (from plotly) (8.0.1)\n",
      "C:\\Java\\jdk-1.8\n",
      "C:\\Users\\Admin\\Spark\n"
     ]
    }
   ],
   "source": [
    "# All required Imports\n",
    "!pip install boto3\n",
    "!pip install censusdata\n",
    "!pip install tabulate\n",
    "!pip install geopandas\n",
    "!pip install plotly\n",
    "\n",
    "import geopandas as gpd\n",
    "import plotly.express as px\n",
    "import boto3\n",
    "import os\n",
    "print(os.environ[\"JAVA_HOME\"])\n",
    "print(os.environ[\"SPARK_HOME\"])\n",
    "import findspark\n",
    "findspark.init()\n",
    "import pandas as pd\n",
    "\n",
    "import json\n",
    "import shapely.geometry\n",
    "import numpy as np\n",
    "from pyspark.sql import SparkSession\n",
    "from shapely.geometry import LineString\n",
    "import plotly.graph_objects as go"
   ]
  },
  {
   "cell_type": "code",
   "execution_count": 2,
   "metadata": {
    "ExecuteTime": {
     "end_time": "2023-04-25T19:59:43.405340Z",
     "start_time": "2023-04-25T19:59:37.415511Z"
    },
    "collapsed": false
   },
   "outputs": [],
   "source": [
    "# Defining the Spark interface\n",
    "spark = SparkSession.builder.config('spark.executor.cores', '8').config('spark.executor.memory', '6g')\\\n",
    "        .config(\"spark.sql.session.timeZone\", \"UTC\").config('spark.driver.memory', '6g').master(\"local[26]\")\\\n",
    "        .appName(\"final-project-app\").config('spark.driver.extraJavaOptions', '-Duser.timezone=UTC').config('spark.executor.extraJavaOptions', '-Duser.timezone=UTC')\\\n",
    "        .config(\"spark.sql.datetime.java8API.enabled\", \"true\").config(\"spark.sql.execution.arrow.pyspark.enabled\", \"true\")\\\n",
    "        .config(\"spark.sql.autoBroadcastJoinThreshold\", -1)\\\n",
    "        .config(\"spark.driver.maxResultSize\", 0)\\\n",
    "        .config(\"spark.shuffle.spill\", \"true\")\\\n",
    "        .getOrCreate()"
   ]
  },
  {
   "cell_type": "code",
   "execution_count": 3,
   "metadata": {
    "ExecuteTime": {
     "end_time": "2023-04-25T19:59:43.421270Z",
     "start_time": "2023-04-25T19:59:43.405340Z"
    },
    "collapsed": false
   },
   "outputs": [],
   "source": [
    "# Paths to the data\n",
    "availability_data = '../data/mds-availability-bird.parquet' \n",
    "trips_data = '../data/mds-trips-bird.parquet'\n",
    "socio_economic_fp = '../data/socio_economic/2021_census_tract_davidson.geojson'"
   ]
  },
  {
   "cell_type": "markdown",
   "metadata": {
    "collapsed": false
   },
   "source": [
    "### Visualize Census Data"
   ]
  },
  {
   "cell_type": "code",
   "execution_count": 4,
   "metadata": {
    "ExecuteTime": {
     "end_time": "2023-04-25T19:59:58.181490Z",
     "start_time": "2023-04-25T19:59:56.558593Z"
    },
    "collapsed": false
   },
   "outputs": [],
   "source": [
    "# Reading the data into a geopandas dataframe\n",
    "socio_economic_df = gpd.read_file(socio_economic_fp)"
   ]
  },
  {
   "cell_type": "code",
   "execution_count": 6,
   "metadata": {
    "ExecuteTime": {
     "end_time": "2023-04-25T19:59:58.261667Z",
     "start_time": "2023-04-25T19:59:58.214097Z"
    },
    "collapsed": false
   },
   "outputs": [],
   "source": [
    "# Getting the county names \n",
    "new_indices = []\n",
    "county_names = []\n",
    "for index in socio_economic_df.NAME.tolist():\n",
    "        county_name = index.split(',')[1].strip().split(' ')[0].strip()\n",
    "        county_names.append(county_name)\n",
    "socio_economic_df['county_name'] = county_name"
   ]
  },
  {
   "cell_type": "code",
   "execution_count": 7,
   "metadata": {
    "ExecuteTime": {
     "end_time": "2023-04-25T19:59:58.340276Z",
     "start_time": "2023-04-25T19:59:58.261667Z"
    },
    "collapsed": false
   },
   "outputs": [],
   "source": [
    "# Redefining the index as GEOID\n",
    "socio_economic_df.index = socio_economic_df.GEOID\n",
    "# List of columns required\n",
    "socio_economic_cols = ['median_income_last12months','geometry','county_name']\n",
    "# Getting only the required columns\n",
    "socio_economic_df = socio_economic_df.drop(columns = [c for c in socio_economic_df.columns if c not in socio_economic_cols])"
   ]
  },
  {
   "cell_type": "code",
   "execution_count": 8,
   "metadata": {
    "ExecuteTime": {
     "end_time": "2023-04-25T20:00:00.082444Z",
     "start_time": "2023-04-25T19:59:58.294518Z"
    },
    "collapsed": false
   },
   "outputs": [],
   "source": [
    "# Creating the choropleth plot and saving it as an html file to be view able on any browser\n",
    "fig = px.choropleth(socio_economic_df, geojson=socio_economic_df.geometry, locations=socio_economic_df.index, color='median_income_last12months',\n",
    "                            color_continuous_scale=\"Viridis\",\n",
    "                            range_color=(0, socio_economic_df.median_income_last12months.max()),\n",
    "                            scope=\"usa\",\n",
    "                            labels={'median_income_last12months':'Median Income of area:','count_name':'County Name'})\n",
    "# Zooming into the area of interest\n",
    "fig.update_geos(fitbounds=\"locations\", visible=True)\n",
    "fig.update_layout(margin={\"r\":0,\"t\":0,\"l\":0,\"b\":0})\n",
    "# Writing the file to the required location\n",
    "fig.write_html('./plots/SocioEconomicDisplay.html')\n",
    "# fig.show()"
   ]
  },
  {
   "cell_type": "markdown",
   "metadata": {
    "collapsed": false
   },
   "source": [
    "### Visualize Availability Data"
   ]
  },
  {
   "cell_type": "code",
   "execution_count": 9,
   "metadata": {},
   "outputs": [],
   "source": [
    "# Reading the data into a pandas dataframe\n",
    "avai_df = pd.read_parquet(availability_data)"
   ]
  },
  {
   "cell_type": "code",
   "execution_count": 10,
   "metadata": {
    "ExecuteTime": {
     "end_time": "2023-04-25T20:00:19.078412Z",
     "start_time": "2023-04-25T20:00:17.514871Z"
    },
    "collapsed": false
   },
   "outputs": [],
   "source": [
    "# Getting the latitude and longitude values\n",
    "lat = []\n",
    "long = []\n",
    "\n",
    "for i in avai_df.index:\n",
    "    for key, value in avai_df.geometry.iloc[i].items():\n",
    "        # print(value)\n",
    "        if key == 'coordinates':\n",
    "            # print(value[0])\n",
    "            long.append(value[0])\n",
    "            lat.append(value[1])\n"
   ]
  },
  {
   "cell_type": "code",
   "execution_count": 11,
   "metadata": {
    "ExecuteTime": {
     "end_time": "2023-04-25T20:00:20.441090Z",
     "start_time": "2023-04-25T20:00:20.315144Z"
    },
    "collapsed": false
   },
   "outputs": [],
   "source": [
    "# Saving the latitude and longitude values back into dataframe as columns\n",
    "avai_df['latitude'] = lat\n",
    "avai_df['longitude'] = long"
   ]
  },
  {
   "cell_type": "code",
   "execution_count": 13,
   "metadata": {
    "ExecuteTime": {
     "end_time": "2023-04-25T20:01:10.054757Z",
     "start_time": "2023-04-25T20:01:09.096181Z"
    },
    "collapsed": false
   },
   "outputs": [],
   "source": [
    "# Creating the scatter_mapbox plot and saving it as an html file to be view able on any browser\n",
    "# Below is my public mapbox token ID that I created \n",
    "px.set_mapbox_access_token(\"pk.eyJ1IjoiZ3VwdGFzYW16IiwiYSI6ImNsZ3d6Zzh0eTAwbjMzcW8wcnJybmp6cmcifQ.4ZGZIjNSFzk6aYjYUT3P1Q\")\n",
    "# For the line mapbox I have given the latitude and longitude values for the points. Zoom = 12 is used to view the area of interest and not the whole mapbox. Categorizing the points using event_type.\n",
    "fig = px.scatter_mapbox(avai_df, lat=\"latitude\", lon=\"longitude\",color='event_type',\n",
    "                   size_max=20,zoom=12)\n",
    "# Giving a name to the figure \n",
    "fig.update_layout(\n",
    "        title = 'Scooters availability display')\n",
    "# Writing the file to the required location\n",
    "fig.write_html('./plots/ScoAvai.html')"
   ]
  },
  {
   "cell_type": "markdown",
   "metadata": {
    "collapsed": false
   },
   "source": [
    "### Visualize Trips data"
   ]
  },
  {
   "cell_type": "code",
   "execution_count": 16,
   "metadata": {},
   "outputs": [],
   "source": [
    "# Reading the data into a pandas dataframe\n",
    "trips_df = pd.read_parquet(trips_data)"
   ]
  },
  {
   "cell_type": "code",
   "execution_count": 17,
   "metadata": {},
   "outputs": [],
   "source": [
    "# Taking only the first 500 trips as there are around 97000 trips in the dataset and all of these won't be viewable in the visualization graph as there will be too many overlaps\n",
    "trips_df = trips_df[:500]"
   ]
  },
  {
   "cell_type": "code",
   "execution_count": 18,
   "metadata": {},
   "outputs": [],
   "source": [
    "# Fixing the column names\n",
    "trips_df['geometry_old'] = trips_df['geometry']\n",
    "# Converting dictionary into shapely linestring geometry to be used in plotly\n",
    "trips_df['geometry'] = trips_df.geometry.apply(lambda x: LineString(x['coordinates']))"
   ]
  },
  {
   "cell_type": "code",
   "execution_count": 19,
   "metadata": {},
   "outputs": [],
   "source": [
    "# Getting the latitude and longitude values for each linestring and also getting the corresponding vehicle IDs \n",
    "lats = []\n",
    "lons = []\n",
    "names = []\n",
    "\n",
    "for feature, name in zip(trips_df.geometry, trips_df.vehicle_id):\n",
    "    if isinstance(feature, shapely.geometry.linestring.LineString):\n",
    "        linestrings = [feature]\n",
    "    elif isinstance(feature, shapely.geometry.multilinestring.MultiLineString):\n",
    "        linestrings = feature.geoms\n",
    "    else:\n",
    "        continue\n",
    "    for linestring in linestrings:\n",
    "        x, y = linestring.xy\n",
    "        lats = np.append(lats, y)\n",
    "        lons = np.append(lons, x)\n",
    "        names = np.append(names, [name]*len(y))\n",
    "        lats = np.append(lats, None)\n",
    "        lons = np.append(lons, None)\n",
    "        names = np.append(names, None)\n"
   ]
  },
  {
   "cell_type": "code",
   "execution_count": 20,
   "metadata": {},
   "outputs": [],
   "source": [
    "# Creating the line_mapbox plot and saving it as an html file to be view able on any browser\n",
    "# Below is my public mapbox token ID that I created \n",
    "px.set_mapbox_access_token(\"pk.eyJ1IjoiZ3VwdGFzYW16IiwiYSI6ImNsZ3d6Zzh0eTAwbjMzcW8wcnJybmp6cmcifQ.4ZGZIjNSFzk6aYjYUT3P1Q\")\n",
    "# For the line mapbox I have given the latitude and longitude values for the linestring and vehicle ID as an identifier for the linestring. Zoom = 12 is used to view the area of interest and not the whole mapbox.\n",
    "fig = px.line_mapbox(lat=lats, lon=lons, hover_name=names,color=names,zoom=12)\n",
    "# Giving a name to the figure \n",
    "fig.update_layout(\n",
    "        title = 'Scooters Trips display')\n",
    "# Writing the file to the required location\n",
    "fig.write_html('./plots/TripsDisplay.html')"
   ]
  }
 ],
 "metadata": {
  "kernelspec": {
   "display_name": "Python 3",
   "language": "python",
   "name": "python3"
  },
  "language_info": {
   "codemirror_mode": {
    "name": "ipython",
    "version": 3
   },
   "file_extension": ".py",
   "mimetype": "text/x-python",
   "name": "python",
   "nbconvert_exporter": "python",
   "pygments_lexer": "ipython3",
   "version": "3.9.13"
  }
 },
 "nbformat": 4,
 "nbformat_minor": 0
}
